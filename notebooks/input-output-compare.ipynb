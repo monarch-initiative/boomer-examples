{
 "cells": [
  {
   "cell_type": "code",
   "execution_count": 1,
   "id": "a1b6a7ab",
   "metadata": {},
   "outputs": [],
   "source": [
    "%reset -f"
   ]
  },
  {
   "cell_type": "code",
   "execution_count": 18,
   "id": "87869049",
   "metadata": {},
   "outputs": [],
   "source": [
    "from pathlib import Path\n",
    "from sssom.parsers import parse_sssom_json, parse_sssom_table\n",
    "from sssom.writers import write_table, write_json\n"
   ]
  },
  {
   "cell_type": "code",
   "execution_count": 6,
   "id": "71dcdae9",
   "metadata": {},
   "outputs": [],
   "source": [
    "ofn_file = Path(\"__file__\").resolve().parents[1] /\"omim-ordo-do\" / \"boomer_output\" / \"mondo_exact.ofn\"\n",
    "ofn_json = Path(\"__file__\").resolve().parents[1] /\"omim-ordo-do\" / \"boomer_output\" / \"mondo_exact.json\"\n",
    "! robot convert -i {ofn_file} --format json -o {ofn_json}"
   ]
  },
  {
   "cell_type": "code",
   "execution_count": 14,
   "id": "7441f64b",
   "metadata": {},
   "outputs": [
    {
     "name": "stderr",
     "output_type": "stream",
     "text": [
      "WARNING:root:Cannot automatically determine table format, trying tsv.\n"
     ]
    }
   ],
   "source": [
    "input_msdf = parse_sssom_table(Path(\"__file__\").resolve().parents[1] /\"omim-ordo-do\" / \"boomer_input\" / \"mondo_exact\" / \"combined.sssom.tsv\")\n",
    "input_msdf.df.head()\n"
   ]
  },
  {
   "cell_type": "code",
   "execution_count": 15,
   "id": "bfba4498",
   "metadata": {},
   "outputs": [
    {
     "data": {
      "text/html": [
       "<div>\n",
       "<style scoped>\n",
       "    .dataframe tbody tr th:only-of-type {\n",
       "        vertical-align: middle;\n",
       "    }\n",
       "\n",
       "    .dataframe tbody tr th {\n",
       "        vertical-align: top;\n",
       "    }\n",
       "\n",
       "    .dataframe thead th {\n",
       "        text-align: right;\n",
       "    }\n",
       "</style>\n",
       "<table border=\"1\" class=\"dataframe\">\n",
       "  <thead>\n",
       "    <tr style=\"text-align: right;\">\n",
       "      <th></th>\n",
       "      <th>subject_id</th>\n",
       "      <th>subject_label</th>\n",
       "      <th>predicate_id</th>\n",
       "      <th>object_id</th>\n",
       "      <th>mapping_justification</th>\n",
       "      <th>confidence</th>\n",
       "    </tr>\n",
       "  </thead>\n",
       "  <tbody>\n",
       "    <tr>\n",
       "      <th>0</th>\n",
       "      <td>MONDO:0000001</td>\n",
       "      <td>disease or disorder</td>\n",
       "      <td>skos:exactMatch</td>\n",
       "      <td>SCTID:64572001</td>\n",
       "      <td>semapv:UnspecifiedMatching</td>\n",
       "      <td>0.99</td>\n",
       "    </tr>\n",
       "    <tr>\n",
       "      <th>1</th>\n",
       "      <td>MONDO:0000001</td>\n",
       "      <td>disease or disorder</td>\n",
       "      <td>skos:exactMatch</td>\n",
       "      <td>Orphanet:377788</td>\n",
       "      <td>semapv:UnspecifiedMatching</td>\n",
       "      <td>0.99</td>\n",
       "    </tr>\n",
       "    <tr>\n",
       "      <th>2</th>\n",
       "      <td>MONDO:0000001</td>\n",
       "      <td>disease or disorder</td>\n",
       "      <td>skos:exactMatch</td>\n",
       "      <td>NCIT:C2991</td>\n",
       "      <td>semapv:UnspecifiedMatching</td>\n",
       "      <td>0.99</td>\n",
       "    </tr>\n",
       "    <tr>\n",
       "      <th>3</th>\n",
       "      <td>MONDO:0000001</td>\n",
       "      <td>disease or disorder</td>\n",
       "      <td>skos:exactMatch</td>\n",
       "      <td>DOID:4</td>\n",
       "      <td>semapv:UnspecifiedMatching</td>\n",
       "      <td>0.99</td>\n",
       "    </tr>\n",
       "    <tr>\n",
       "      <th>4</th>\n",
       "      <td>MONDO:0000001</td>\n",
       "      <td>disease or disorder</td>\n",
       "      <td>skos:exactMatch</td>\n",
       "      <td>UMLS:C0012634</td>\n",
       "      <td>semapv:UnspecifiedMatching</td>\n",
       "      <td>0.99</td>\n",
       "    </tr>\n",
       "  </tbody>\n",
       "</table>\n",
       "</div>"
      ],
      "text/plain": [
       "      subject_id        subject_label     predicate_id        object_id  \\\n",
       "0  MONDO:0000001  disease or disorder  skos:exactMatch   SCTID:64572001   \n",
       "1  MONDO:0000001  disease or disorder  skos:exactMatch  Orphanet:377788   \n",
       "2  MONDO:0000001  disease or disorder  skos:exactMatch       NCIT:C2991   \n",
       "3  MONDO:0000001  disease or disorder  skos:exactMatch           DOID:4   \n",
       "4  MONDO:0000001  disease or disorder  skos:exactMatch    UMLS:C0012634   \n",
       "\n",
       "        mapping_justification  confidence  \n",
       "0  semapv:UnspecifiedMatching        0.99  \n",
       "1  semapv:UnspecifiedMatching        0.99  \n",
       "2  semapv:UnspecifiedMatching        0.99  \n",
       "3  semapv:UnspecifiedMatching        0.99  \n",
       "4  semapv:UnspecifiedMatching        0.99  "
      ]
     },
     "execution_count": 15,
     "metadata": {},
     "output_type": "execute_result"
    }
   ],
   "source": [
    "input_msdf.df.head()"
   ]
  },
  {
   "cell_type": "code",
   "execution_count": 24,
   "id": "ae9b8f1e",
   "metadata": {},
   "outputs": [
    {
     "name": "stdout",
     "output_type": "stream",
     "text": [
      "sssom.util.NoCURIEException: http://identifiers.org/meddra/C1535926 does not follow any known prefixes\r\n"
     ]
    }
   ],
   "source": [
    "! sssom parse {ofn_json} -I obographs-json -o test.tsv"
   ]
  },
  {
   "cell_type": "code",
   "execution_count": 20,
   "id": "6a4bfefd",
   "metadata": {},
   "outputs": [],
   "source": []
  },
  {
   "cell_type": "code",
   "execution_count": null,
   "id": "33efcd71",
   "metadata": {},
   "outputs": [],
   "source": []
  }
 ],
 "metadata": {
  "kernelspec": {
   "display_name": "Python 3 (ipykernel)",
   "language": "python",
   "name": "python3"
  },
  "language_info": {
   "codemirror_mode": {
    "name": "ipython",
    "version": 3
   },
   "file_extension": ".py",
   "mimetype": "text/x-python",
   "name": "python",
   "nbconvert_exporter": "python",
   "pygments_lexer": "ipython3",
   "version": "3.10.8"
  }
 },
 "nbformat": 4,
 "nbformat_minor": 5
}
