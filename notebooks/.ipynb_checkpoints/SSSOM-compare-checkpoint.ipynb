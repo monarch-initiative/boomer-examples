{
 "cells": [
  {
   "cell_type": "code",
   "execution_count": 1,
   "id": "5f546424",
   "metadata": {},
   "outputs": [],
   "source": [
    "%reset -f"
   ]
  },
  {
   "cell_type": "code",
   "execution_count": 2,
   "id": "623d9700",
   "metadata": {},
   "outputs": [],
   "source": [
    "from pathlib import Path\n",
    "from sssom.parsers import parse_sssom_table\n",
    "from sssom.util import compare_dataframes"
   ]
  },
  {
   "cell_type": "code",
   "execution_count": 4,
   "id": "5e13c0bb",
   "metadata": {},
   "outputs": [],
   "source": [
    "proj_dir = Path(\"__file__\").resolve().parents[1]\n",
    "data_dir = proj_dir / \"data\"\n",
    "input_sssom = data_dir / \"mondo_omim_ordo_do.sssom.tsv\"\n",
    "output_sssom = proj_dir / \"omim-ordo-do\" / \"boomer_output\" / \"mondo_omim_ordo_do.boomer.sssom.tsv\""
   ]
  },
  {
   "cell_type": "code",
   "execution_count": 5,
   "id": "3481e1b6",
   "metadata": {},
   "outputs": [
    {
     "name": "stderr",
     "output_type": "stream",
     "text": [
      "WARNING:root:Cannot automatically determine table format, trying tsv.\n"
     ]
    },
    {
     "data": {
      "text/html": [
       "<div>\n",
       "<style scoped>\n",
       "    .dataframe tbody tr th:only-of-type {\n",
       "        vertical-align: middle;\n",
       "    }\n",
       "\n",
       "    .dataframe tbody tr th {\n",
       "        vertical-align: top;\n",
       "    }\n",
       "\n",
       "    .dataframe thead th {\n",
       "        text-align: right;\n",
       "    }\n",
       "</style>\n",
       "<table border=\"1\" class=\"dataframe\">\n",
       "  <thead>\n",
       "    <tr style=\"text-align: right;\">\n",
       "      <th></th>\n",
       "      <th>subject_id</th>\n",
       "      <th>subject_label</th>\n",
       "      <th>predicate_id</th>\n",
       "      <th>object_id</th>\n",
       "      <th>mapping_justification</th>\n",
       "      <th>confidence</th>\n",
       "    </tr>\n",
       "  </thead>\n",
       "  <tbody>\n",
       "    <tr>\n",
       "      <th>0</th>\n",
       "      <td>HP:0005506</td>\n",
       "      <td>Chronic myelogenous leukemia</td>\n",
       "      <td>oboInOwl:hasDbXref</td>\n",
       "      <td>DOID:8552</td>\n",
       "      <td>semapv:UnspecifiedMatching</td>\n",
       "      <td>0.8</td>\n",
       "    </tr>\n",
       "    <tr>\n",
       "      <th>1</th>\n",
       "      <td>MONDO:0000001</td>\n",
       "      <td>disease or disorder</td>\n",
       "      <td>skos:exactMatch</td>\n",
       "      <td>Orphanet:377788</td>\n",
       "      <td>semapv:UnspecifiedMatching</td>\n",
       "      <td>0.8</td>\n",
       "    </tr>\n",
       "    <tr>\n",
       "      <th>2</th>\n",
       "      <td>MONDO:0000001</td>\n",
       "      <td>disease or disorder</td>\n",
       "      <td>skos:exactMatch</td>\n",
       "      <td>DOID:4</td>\n",
       "      <td>semapv:UnspecifiedMatching</td>\n",
       "      <td>0.8</td>\n",
       "    </tr>\n",
       "    <tr>\n",
       "      <th>3</th>\n",
       "      <td>MONDO:0000001</td>\n",
       "      <td>disease or disorder</td>\n",
       "      <td>oboInOwl:hasDbXref</td>\n",
       "      <td>DOID:4</td>\n",
       "      <td>semapv:UnspecifiedMatching</td>\n",
       "      <td>0.8</td>\n",
       "    </tr>\n",
       "    <tr>\n",
       "      <th>4</th>\n",
       "      <td>MONDO:0000004</td>\n",
       "      <td>adrenocortical insufficiency</td>\n",
       "      <td>skos:exactMatch</td>\n",
       "      <td>DOID:10493</td>\n",
       "      <td>semapv:UnspecifiedMatching</td>\n",
       "      <td>0.8</td>\n",
       "    </tr>\n",
       "  </tbody>\n",
       "</table>\n",
       "</div>"
      ],
      "text/plain": [
       "      subject_id                 subject_label        predicate_id  \\\n",
       "0     HP:0005506  Chronic myelogenous leukemia  oboInOwl:hasDbXref   \n",
       "1  MONDO:0000001           disease or disorder     skos:exactMatch   \n",
       "2  MONDO:0000001           disease or disorder     skos:exactMatch   \n",
       "3  MONDO:0000001           disease or disorder  oboInOwl:hasDbXref   \n",
       "4  MONDO:0000004  adrenocortical insufficiency     skos:exactMatch   \n",
       "\n",
       "         object_id       mapping_justification  confidence  \n",
       "0        DOID:8552  semapv:UnspecifiedMatching         0.8  \n",
       "1  Orphanet:377788  semapv:UnspecifiedMatching         0.8  \n",
       "2           DOID:4  semapv:UnspecifiedMatching         0.8  \n",
       "3           DOID:4  semapv:UnspecifiedMatching         0.8  \n",
       "4       DOID:10493  semapv:UnspecifiedMatching         0.8  "
      ]
     },
     "execution_count": 5,
     "metadata": {},
     "output_type": "execute_result"
    }
   ],
   "source": [
    "%%time\n",
    "input_msdf = parse_sssom_table(input_sssom)\n",
    "input_msdf.df.head()"
   ]
  },
  {
   "cell_type": "code",
   "execution_count": 6,
   "id": "5f7417d7",
   "metadata": {},
   "outputs": [
    {
     "name": "stderr",
     "output_type": "stream",
     "text": [
      "WARNING:root:Cannot automatically determine table format, trying tsv.\n"
     ]
    },
    {
     "data": {
      "text/html": [
       "<div>\n",
       "<style scoped>\n",
       "    .dataframe tbody tr th:only-of-type {\n",
       "        vertical-align: middle;\n",
       "    }\n",
       "\n",
       "    .dataframe tbody tr th {\n",
       "        vertical-align: top;\n",
       "    }\n",
       "\n",
       "    .dataframe thead th {\n",
       "        text-align: right;\n",
       "    }\n",
       "</style>\n",
       "<table border=\"1\" class=\"dataframe\">\n",
       "  <thead>\n",
       "    <tr style=\"text-align: right;\">\n",
       "      <th></th>\n",
       "      <th>subject_id</th>\n",
       "      <th>predicate_id</th>\n",
       "      <th>object_id</th>\n",
       "      <th>mapping_justification</th>\n",
       "    </tr>\n",
       "  </thead>\n",
       "  <tbody>\n",
       "    <tr>\n",
       "      <th>0</th>\n",
       "      <td>DOID:0001816</td>\n",
       "      <td>owl:equivalentClass</td>\n",
       "      <td>MONDO:0016982</td>\n",
       "      <td>semapv:UnspecifiedMatching</td>\n",
       "    </tr>\n",
       "    <tr>\n",
       "      <th>1</th>\n",
       "      <td>DOID:0002116</td>\n",
       "      <td>owl:equivalentClass</td>\n",
       "      <td>MONDO:0005085</td>\n",
       "      <td>semapv:UnspecifiedMatching</td>\n",
       "    </tr>\n",
       "    <tr>\n",
       "      <th>2</th>\n",
       "      <td>DOID:0014667</td>\n",
       "      <td>owl:equivalentClass</td>\n",
       "      <td>MONDO:0005066</td>\n",
       "      <td>semapv:UnspecifiedMatching</td>\n",
       "    </tr>\n",
       "    <tr>\n",
       "      <th>3</th>\n",
       "      <td>DOID:0040001</td>\n",
       "      <td>owl:equivalentClass</td>\n",
       "      <td>MONDO:0025517</td>\n",
       "      <td>semapv:UnspecifiedMatching</td>\n",
       "    </tr>\n",
       "    <tr>\n",
       "      <th>4</th>\n",
       "      <td>DOID:0040002</td>\n",
       "      <td>owl:equivalentClass</td>\n",
       "      <td>MONDO:0025518</td>\n",
       "      <td>semapv:UnspecifiedMatching</td>\n",
       "    </tr>\n",
       "  </tbody>\n",
       "</table>\n",
       "</div>"
      ],
      "text/plain": [
       "     subject_id         predicate_id      object_id  \\\n",
       "0  DOID:0001816  owl:equivalentClass  MONDO:0016982   \n",
       "1  DOID:0002116  owl:equivalentClass  MONDO:0005085   \n",
       "2  DOID:0014667  owl:equivalentClass  MONDO:0005066   \n",
       "3  DOID:0040001  owl:equivalentClass  MONDO:0025517   \n",
       "4  DOID:0040002  owl:equivalentClass  MONDO:0025518   \n",
       "\n",
       "        mapping_justification  \n",
       "0  semapv:UnspecifiedMatching  \n",
       "1  semapv:UnspecifiedMatching  \n",
       "2  semapv:UnspecifiedMatching  \n",
       "3  semapv:UnspecifiedMatching  \n",
       "4  semapv:UnspecifiedMatching  "
      ]
     },
     "execution_count": 6,
     "metadata": {},
     "output_type": "execute_result"
    }
   ],
   "source": [
    "%%time\n",
    "output_msdf = parse_sssom_table(output_sssom)\n",
    "output_msdf.df.head()"
   ]
  },
  {
   "cell_type": "code",
   "execution_count": null,
   "id": "4d394bdb",
   "metadata": {},
   "outputs": [],
   "source": []
  }
 ],
 "metadata": {
  "kernelspec": {
   "display_name": "Python 3 (ipykernel)",
   "language": "python",
   "name": "python3"
  },
  "language_info": {
   "codemirror_mode": {
    "name": "ipython",
    "version": 3
   },
   "file_extension": ".py",
   "mimetype": "text/x-python",
   "name": "python",
   "nbconvert_exporter": "python",
   "pygments_lexer": "ipython3",
   "version": "3.10.8"
  }
 },
 "nbformat": 4,
 "nbformat_minor": 5
}
