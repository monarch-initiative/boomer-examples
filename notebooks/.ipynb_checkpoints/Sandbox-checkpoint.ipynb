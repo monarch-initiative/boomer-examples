{
 "cells": [
  {
   "cell_type": "code",
   "execution_count": 1,
   "id": "5d014474",
   "metadata": {},
   "outputs": [],
   "source": [
    "%reset -f"
   ]
  },
  {
   "cell_type": "code",
   "execution_count": 2,
   "id": "1741e13a",
   "metadata": {},
   "outputs": [],
   "source": [
    "from pathlib import Path\n",
    "import yaml\n",
    "import pandas as pd"
   ]
  },
  {
   "cell_type": "code",
   "execution_count": 3,
   "id": "23d962bd",
   "metadata": {},
   "outputs": [],
   "source": [
    "# ! wget https://www.dropbox.com/s/q82fm7oxl1m16mh/symbiont-merged-all.owl?dl=0 -O tmp/symbiont-merged-all.owl\n",
    "# ! wget http://purl.obolibrary.org/obo/mondo/mappings/mondo.sssom.tsv -O tmp/mondo.sssom.tsv"
   ]
  },
  {
   "cell_type": "code",
   "execution_count": 4,
   "id": "1ef80306",
   "metadata": {},
   "outputs": [],
   "source": [
    "data_dir = Path(\"__file__\").resolve().parents[1] / \"data\"\n",
    "ptable = Path(\"__file__\").resolve().parent / \"ptable\"\n",
    "input_dir = Path(\"__file__\").resolve().parent / \"input\"\n",
    "empty_sssom = data_dir/ \"empty.sssom.tsv\"\n",
    "mondo_sssom = data_dir/ \"mondo.sssom.tsv\"\n",
    "mondo_doid = data_dir / \"mondo_exactmatch_doid.sssom.tsv\"\n",
    "boomer_input = Path(\"__file__\").resolve().parents[1] / \"omim-ordo-do/boomer_input/\"\n",
    "prefix_yaml = boomer_input / \"prefix.yaml\"\n",
    "ontology = boomer_input / \"symbiont-merged-all.owl\"\n",
    "output = Path(\"__file__\").resolve().parent / \"output\""
   ]
  },
  {
   "cell_type": "code",
   "execution_count": 5,
   "id": "4507a511",
   "metadata": {},
   "outputs": [
    {
     "ename": "FileNotFoundError",
     "evalue": "[Errno 2] No such file or directory: '/Users/HHegde/Desktop/gitRepo/monarch-initiative/boomer-examples/notebooks/input/prefix.yaml'",
     "output_type": "error",
     "traceback": [
      "\u001b[0;31m---------------------------------------------------------------------------\u001b[0m",
      "\u001b[0;31mFileNotFoundError\u001b[0m                         Traceback (most recent call last)",
      "Cell \u001b[0;32mIn[5], line 1\u001b[0m\n\u001b[0;32m----> 1\u001b[0m \u001b[38;5;28;01mwith\u001b[39;00m \u001b[38;5;28;43mopen\u001b[39;49m\u001b[43m(\u001b[49m\u001b[43mprefix_yaml\u001b[49m\u001b[43m,\u001b[49m\u001b[43m \u001b[49m\u001b[38;5;124;43m\"\u001b[39;49m\u001b[38;5;124;43mr\u001b[39;49m\u001b[38;5;124;43m\"\u001b[39;49m\u001b[43m)\u001b[49m \u001b[38;5;28;01mas\u001b[39;00m y:\n\u001b[1;32m      2\u001b[0m     prefix_map \u001b[38;5;241m=\u001b[39m yaml\u001b[38;5;241m.\u001b[39msafe_load(y)\n\u001b[1;32m      3\u001b[0m prefix_map\n",
      "File \u001b[0;32m/opt/anaconda3/envs/boomer-example/lib/python3.10/site-packages/IPython/core/interactiveshell.py:282\u001b[0m, in \u001b[0;36m_modified_open\u001b[0;34m(file, *args, **kwargs)\u001b[0m\n\u001b[1;32m    275\u001b[0m \u001b[38;5;28;01mif\u001b[39;00m file \u001b[38;5;129;01min\u001b[39;00m {\u001b[38;5;241m0\u001b[39m, \u001b[38;5;241m1\u001b[39m, \u001b[38;5;241m2\u001b[39m}:\n\u001b[1;32m    276\u001b[0m     \u001b[38;5;28;01mraise\u001b[39;00m \u001b[38;5;167;01mValueError\u001b[39;00m(\n\u001b[1;32m    277\u001b[0m         \u001b[38;5;124mf\u001b[39m\u001b[38;5;124m\"\u001b[39m\u001b[38;5;124mIPython won\u001b[39m\u001b[38;5;124m'\u001b[39m\u001b[38;5;124mt let you open fd=\u001b[39m\u001b[38;5;132;01m{\u001b[39;00mfile\u001b[38;5;132;01m}\u001b[39;00m\u001b[38;5;124m by default \u001b[39m\u001b[38;5;124m\"\u001b[39m\n\u001b[1;32m    278\u001b[0m         \u001b[38;5;124m\"\u001b[39m\u001b[38;5;124mas it is likely to crash IPython. If you know what you are doing, \u001b[39m\u001b[38;5;124m\"\u001b[39m\n\u001b[1;32m    279\u001b[0m         \u001b[38;5;124m\"\u001b[39m\u001b[38;5;124myou can use builtins\u001b[39m\u001b[38;5;124m'\u001b[39m\u001b[38;5;124m open.\u001b[39m\u001b[38;5;124m\"\u001b[39m\n\u001b[1;32m    280\u001b[0m     )\n\u001b[0;32m--> 282\u001b[0m \u001b[38;5;28;01mreturn\u001b[39;00m \u001b[43mio_open\u001b[49m\u001b[43m(\u001b[49m\u001b[43mfile\u001b[49m\u001b[43m,\u001b[49m\u001b[43m \u001b[49m\u001b[38;5;241;43m*\u001b[39;49m\u001b[43margs\u001b[49m\u001b[43m,\u001b[49m\u001b[43m \u001b[49m\u001b[38;5;241;43m*\u001b[39;49m\u001b[38;5;241;43m*\u001b[39;49m\u001b[43mkwargs\u001b[49m\u001b[43m)\u001b[49m\n",
      "\u001b[0;31mFileNotFoundError\u001b[0m: [Errno 2] No such file or directory: '/Users/HHegde/Desktop/gitRepo/monarch-initiative/boomer-examples/notebooks/input/prefix.yaml'"
     ]
    }
   ],
   "source": [
    "with open(prefix_yaml, \"r\") as y:\n",
    "    prefix_map = yaml.safe_load(y)\n",
    "prefix_map"
   ]
  },
  {
   "cell_type": "code",
   "execution_count": null,
   "id": "655c62af",
   "metadata": {},
   "outputs": [],
   "source": [
    "empty_ptable = ptable / \"empty_ptable.tsv\"\n",
    "! sssom ptable {empty_sssom} -o {empty_ptable}"
   ]
  },
  {
   "cell_type": "code",
   "execution_count": null,
   "id": "16d8e602",
   "metadata": {},
   "outputs": [],
   "source": [
    "%%time\n",
    "# Empty SSSOM\n",
    "! boomer --ptable {empty_ptable} \\\n",
    "         --ontology {ontology} \\\n",
    "         --prefixes {prefix_yaml} \\\n",
    "         --window-count 1 \\\n",
    "         --runs 1 \\\n",
    "         --exhaustive-search-limit 10 \\\n",
    "         --output {output}"
   ]
  },
  {
   "cell_type": "code",
   "execution_count": null,
   "id": "dc26eccc",
   "metadata": {},
   "outputs": [],
   "source": [
    "mondo_doid_ptable = ptable / \"mondo_doid_ptable.tsv\"\n",
    "! sssom ptable {mondo_doid} -o {mondo_doid_ptable}"
   ]
  },
  {
   "cell_type": "code",
   "execution_count": null,
   "id": "17529319",
   "metadata": {},
   "outputs": [],
   "source": [
    "%%time\n",
    "# MONDO-DOID SSSOM\n",
    "! boomer --ptable {mondo_doid_ptable} \\\n",
    "         --ontology {ontology} \\\n",
    "         --prefixes {prefix_yaml} \\\n",
    "         --window-count 1 \\\n",
    "         --runs 1 \\\n",
    "         --exhaustive-search-limit 10 \\\n",
    "         --output {output}"
   ]
  },
  {
   "cell_type": "code",
   "execution_count": null,
   "id": "af891459",
   "metadata": {},
   "outputs": [],
   "source": [
    "%%time\n",
    "mondo_ptable = ptable / \"mondo_ptable.tsv\"\n",
    "! sssom ptable {mondo_sssom} -o {mondo_ptable}"
   ]
  },
  {
   "cell_type": "code",
   "execution_count": null,
   "id": "d6fad7dc",
   "metadata": {},
   "outputs": [],
   "source": [
    "df = pd.read_csv(mondo_ptable, sep=\"\\t\", header=None)\n",
    "\n",
    "print(len(df))\n",
    "\n",
    "df.head()"
   ]
  },
  {
   "cell_type": "code",
   "execution_count": null,
   "id": "1b666b58",
   "metadata": {},
   "outputs": [],
   "source": [
    "df[df[2].isna()]"
   ]
  },
  {
   "cell_type": "code",
   "execution_count": null,
   "id": "011c881d",
   "metadata": {},
   "outputs": [],
   "source": [
    "df[df[1].str.contains('MEDGEN')]"
   ]
  },
  {
   "cell_type": "code",
   "execution_count": null,
   "id": "d9d8b2f9",
   "metadata": {},
   "outputs": [],
   "source": [
    "new_df = df[~df[2].isna() & ~df[1].str.contains('MEDGEN')]\n",
    "print(len(new_df))\n",
    "new_df.to_csv(mondo_ptable, sep=\"\\t\", index=False, header=None )\n",
    "new_df.head()\n",
    "\n"
   ]
  },
  {
   "cell_type": "code",
   "execution_count": null,
   "id": "02972bba",
   "metadata": {},
   "outputs": [],
   "source": [
    "%%time\n",
    "# MONDO SSSOM\n",
    "! boomer --ptable {mondo_ptable} \\\n",
    "         --ontology {ontology} \\\n",
    "         --prefixes {prefix_yaml} \\\n",
    "         --window-count 1 \\\n",
    "         --runs 1 \\\n",
    "         --exhaustive-search-limit 10 \\\n",
    "         --output {output}"
   ]
  },
  {
   "cell_type": "code",
   "execution_count": null,
   "id": "a920d3a7",
   "metadata": {},
   "outputs": [],
   "source": []
  }
 ],
 "metadata": {
  "kernelspec": {
   "display_name": "Python 3 (ipykernel)",
   "language": "python",
   "name": "python3"
  },
  "language_info": {
   "codemirror_mode": {
    "name": "ipython",
    "version": 3
   },
   "file_extension": ".py",
   "mimetype": "text/x-python",
   "name": "python",
   "nbconvert_exporter": "python",
   "pygments_lexer": "ipython3",
   "version": "3.10.8"
  }
 },
 "nbformat": 4,
 "nbformat_minor": 5
}
