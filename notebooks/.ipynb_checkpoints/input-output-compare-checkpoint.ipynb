{
 "cells": [
  {
   "cell_type": "code",
   "execution_count": 1,
   "id": "ef4887db",
   "metadata": {},
   "outputs": [],
   "source": [
    "%reset -f"
   ]
  },
  {
   "cell_type": "code",
   "execution_count": 26,
   "id": "fd14b01d",
   "metadata": {},
   "outputs": [],
   "source": [
    "from pathlib import Path\n",
    "from sssom.parsers import parse_sssom_json, parse_sssom_table\n",
    "from sssom.writers import write_table, write_json"
   ]
  },
  {
   "cell_type": "code",
   "execution_count": 41,
   "id": "83893de0",
   "metadata": {},
   "outputs": [],
   "source": [
    "input_sssom = Path(\"__file__\").resolve().parents[1] /\"omim-ordo-do\" / \"boomer_input\" / \"mondo_exact\" / \"combined.sssom.tsv\"\n",
    "ofn_file = Path(\"__file__\").resolve().parents[1] /\"omim-ordo-do\" / \"boomer_output\" / \"mondo_exact.ofn\"\n",
    "ofn_json = Path(\"__file__\").resolve().parents[1] /\"omim-ordo-do\" / \"boomer_output\" / \"mondo_exact.json\"\n",
    "prefix_map = Path(\"__file__\").resolve().parents[1] / \"boomer_input\"/ \"prefix.yaml\"\n",
    "! robot convert -i {ofn_file} --format json -o {ofn_json}"
   ]
  },
  {
   "cell_type": "code",
   "execution_count": 33,
   "id": "5bb4b8e8",
   "metadata": {},
   "outputs": [
    {
     "name": "stderr",
     "output_type": "stream",
     "text": [
      "WARNING:root:Cannot automatically determine table format, trying tsv.\n"
     ]
    },
    {
     "data": {
      "text/html": [
       "<div>\n",
       "<style scoped>\n",
       "    .dataframe tbody tr th:only-of-type {\n",
       "        vertical-align: middle;\n",
       "    }\n",
       "\n",
       "    .dataframe tbody tr th {\n",
       "        vertical-align: top;\n",
       "    }\n",
       "\n",
       "    .dataframe thead th {\n",
       "        text-align: right;\n",
       "    }\n",
       "</style>\n",
       "<table border=\"1\" class=\"dataframe\">\n",
       "  <thead>\n",
       "    <tr style=\"text-align: right;\">\n",
       "      <th></th>\n",
       "      <th>subject_id</th>\n",
       "      <th>subject_label</th>\n",
       "      <th>predicate_id</th>\n",
       "      <th>object_id</th>\n",
       "      <th>mapping_justification</th>\n",
       "      <th>confidence</th>\n",
       "    </tr>\n",
       "  </thead>\n",
       "  <tbody>\n",
       "    <tr>\n",
       "      <th>0</th>\n",
       "      <td>MONDO:0000001</td>\n",
       "      <td>disease or disorder</td>\n",
       "      <td>skos:exactMatch</td>\n",
       "      <td>SCTID:64572001</td>\n",
       "      <td>semapv:UnspecifiedMatching</td>\n",
       "      <td>0.99</td>\n",
       "    </tr>\n",
       "    <tr>\n",
       "      <th>1</th>\n",
       "      <td>MONDO:0000001</td>\n",
       "      <td>disease or disorder</td>\n",
       "      <td>skos:exactMatch</td>\n",
       "      <td>Orphanet:377788</td>\n",
       "      <td>semapv:UnspecifiedMatching</td>\n",
       "      <td>0.99</td>\n",
       "    </tr>\n",
       "    <tr>\n",
       "      <th>2</th>\n",
       "      <td>MONDO:0000001</td>\n",
       "      <td>disease or disorder</td>\n",
       "      <td>skos:exactMatch</td>\n",
       "      <td>NCIT:C2991</td>\n",
       "      <td>semapv:UnspecifiedMatching</td>\n",
       "      <td>0.99</td>\n",
       "    </tr>\n",
       "    <tr>\n",
       "      <th>3</th>\n",
       "      <td>MONDO:0000001</td>\n",
       "      <td>disease or disorder</td>\n",
       "      <td>skos:exactMatch</td>\n",
       "      <td>DOID:4</td>\n",
       "      <td>semapv:UnspecifiedMatching</td>\n",
       "      <td>0.99</td>\n",
       "    </tr>\n",
       "    <tr>\n",
       "      <th>4</th>\n",
       "      <td>MONDO:0000001</td>\n",
       "      <td>disease or disorder</td>\n",
       "      <td>skos:exactMatch</td>\n",
       "      <td>UMLS:C0012634</td>\n",
       "      <td>semapv:UnspecifiedMatching</td>\n",
       "      <td>0.99</td>\n",
       "    </tr>\n",
       "  </tbody>\n",
       "</table>\n",
       "</div>"
      ],
      "text/plain": [
       "      subject_id        subject_label     predicate_id        object_id  \\\n",
       "0  MONDO:0000001  disease or disorder  skos:exactMatch   SCTID:64572001   \n",
       "1  MONDO:0000001  disease or disorder  skos:exactMatch  Orphanet:377788   \n",
       "2  MONDO:0000001  disease or disorder  skos:exactMatch       NCIT:C2991   \n",
       "3  MONDO:0000001  disease or disorder  skos:exactMatch           DOID:4   \n",
       "4  MONDO:0000001  disease or disorder  skos:exactMatch    UMLS:C0012634   \n",
       "\n",
       "        mapping_justification  confidence  \n",
       "0  semapv:UnspecifiedMatching        0.99  \n",
       "1  semapv:UnspecifiedMatching        0.99  \n",
       "2  semapv:UnspecifiedMatching        0.99  \n",
       "3  semapv:UnspecifiedMatching        0.99  \n",
       "4  semapv:UnspecifiedMatching        0.99  "
      ]
     },
     "execution_count": 33,
     "metadata": {},
     "output_type": "execute_result"
    }
   ],
   "source": [
    "input_msdf = parse_sssom_table(input_sssom)\n",
    "input_msdf.df.head()\n"
   ]
  },
  {
   "cell_type": "code",
   "execution_count": 35,
   "id": "12506a97",
   "metadata": {},
   "outputs": [
    {
     "data": {
      "text/plain": [
       "{'license': 'https://w3id.org/sssom/license/unspecified',\n",
       " 'mapping_set_id': 'https://w3id.org/sssom/mappings/74a8f3da-09b5-47ea-bedb-239ebe9d56d8',\n",
       " 'curie_map': {'DOID': 'http://purl.obolibrary.org/obo/DOID_',\n",
       "  'EFO': 'http://www.ebi.ac.uk/efo/EFO_',\n",
       "  'HGNC': 'http://identifiers.org/hgnc/',\n",
       "  'HP': 'http://purl.obolibrary.org/obo/HP_',\n",
       "  'ICD10CM': 'http://purl.bioontology.org/ontology/ICD10CM/',\n",
       "  'ICD10WHO': 'https://icd.who.int/browse10/2019/en#/',\n",
       "  'MEDGEN': 'http://identifiers.org/medgen/',\n",
       "  'MESH': 'http://identifiers.org/mesh/',\n",
       "  'MONDO': 'http://purl.obolibrary.org/obo/MONDO_',\n",
       "  'MedDRA': 'http://identifiers.org/meddra/',\n",
       "  'NCBITaxon': 'http://purl.obolibrary.org/obo/NCBITaxon_',\n",
       "  'NCIT': 'http://purl.obolibrary.org/obo/NCIT_',\n",
       "  'OMIM': 'https://omim.org/entry/',\n",
       "  'OMIMPS': 'https://omim.org/phenotypicSeries/PS',\n",
       "  'Orphanet': 'http://www.orpha.net/ORDO/Orphanet_',\n",
       "  'SCTID': 'http://identifiers.org/snomedct/',\n",
       "  'UMLS': 'http://linkedlifedata.com/resource/umls/id/',\n",
       "  'oboInOwl': 'http://www.geneontology.org/formats/oboInOwl#',\n",
       "  'owl': 'http://www.w3.org/2002/07/owl#',\n",
       "  'rdf': 'http://www.w3.org/1999/02/22-rdf-syntax-ns#',\n",
       "  'rdfs': 'http://www.w3.org/2000/01/rdf-schema#',\n",
       "  'semapv': 'https://w3id.org/semapv/',\n",
       "  'skos': 'http://www.w3.org/2004/02/skos/core#',\n",
       "  'sssom': 'https://w3id.org/sssom/'}}"
      ]
     },
     "execution_count": 35,
     "metadata": {},
     "output_type": "execute_result"
    }
   ],
   "source": [
    "meta= input_msdf.metadata\n",
    "\n",
    "meta[\"curie_map\"] = input_msdf.prefix_map\n",
    "\n",
    "meta"
   ]
  },
  {
   "cell_type": "code",
   "execution_count": 37,
   "id": "7650efae",
   "metadata": {},
   "outputs": [],
   "source": [
    "with open(\"metadata.yaml\", \"w\") as f:\n",
    "    yaml.dump(meta, f)"
   ]
  },
  {
   "cell_type": "code",
   "execution_count": 25,
   "id": "93d404ba",
   "metadata": {},
   "outputs": [
    {
     "name": "stdout",
     "output_type": "stream",
     "text": [
      "Usage: sssom parse [OPTIONS] INPUT\r\n",
      "\r\n",
      "  Parse a file in one of the supported formats (such as obographs) into an\r\n",
      "  SSSOM TSV file.\r\n",
      "\r\n",
      "Options:\r\n",
      "  -I, --input-format TEXT         The string denoting the input format, e.g.\r\n",
      "                                  tsv,rdf,owl,alignment-api-xml,obographs-\r\n",
      "                                  json,json\r\n",
      "  -m, --metadata PATH             The path to a file containing the sssom\r\n",
      "                                  metadata (including prefix_map) to be used.\r\n",
      "  -C, --prefix-map-mode [metadata_only|sssom_default_only|merged]\r\n",
      "                                  Defines whether the prefix map in the\r\n",
      "                                  metadata should be extended or replaced with\r\n",
      "                                  the SSSOM default prefix map. Must be one of\r\n",
      "                                  metadata_only, sssom_default_only, merged\r\n",
      "                                  [default: metadata_only; required]\r\n",
      "  -p, --clean-prefixes            If True (default), records with unknown\r\n",
      "                                  prefixes are removed from the SSSOM file.\r\n",
      "                                  [required]\r\n",
      "  -E, --embedded-mode / --non-embedded-mode\r\n",
      "                                  If False, the resultant SSSOM file will be\r\n",
      "                                  saved        in the 'filename'.tsv provided\r\n",
      "                                  by -o/--output option        AND the\r\n",
      "                                  metadata gets saved in the 'filename'.yml.\r\n",
      "  -F, --mapping-predicate-filter TEXT\r\n",
      "                                  A list of predicates or a file path\r\n",
      "                                  containing the list of predicates to be\r\n",
      "                                  considered.\r\n",
      "  -o, --output FILENAME           Path of SSSOM output file.\r\n",
      "  --help                          Show this message and exit.\r\n"
     ]
    }
   ],
   "source": [
    "! sssom parse --help"
   ]
  },
  {
   "cell_type": "code",
   "execution_count": 39,
   "id": "db689be4",
   "metadata": {},
   "outputs": [],
   "source": [
    "%%time\n",
    "! sssom parse {ofn_json} -I obographs-json -o boomer.sssom.tsv -m metadata.yaml"
   ]
  },
  {
   "cell_type": "code",
   "execution_count": 40,
   "id": "0cbadd8c",
   "metadata": {},
   "outputs": [
    {
     "name": "stdout",
     "output_type": "stream",
     "text": [
      "Usage: sssom diff [OPTIONS] INPUTS...\r\n",
      "\r\n",
      "  Compare two SSSOM files.\r\n",
      "\r\n",
      "  The output is a new SSSOM file with the union of all mappings, and injected\r\n",
      "  comments indicating uniqueness to set1 or set2.\r\n",
      "\r\n",
      "Options:\r\n",
      "  -o, --output FILENAME  Path of SSSOM output file.\r\n",
      "  --help                 Show this message and exit.\r\n"
     ]
    }
   ],
   "source": [
    "! sssom diff --help"
   ]
  },
  {
   "cell_type": "code",
   "execution_count": 42,
   "id": "feb69469",
   "metadata": {},
   "outputs": [
    {
     "name": "stdout",
     "output_type": "stream",
     "text": [
      "CPU times: user 2.45 s, sys: 656 ms, total: 3.11 s\n",
      "Wall time: 3min 26s\n"
     ]
    }
   ],
   "source": [
    "%%time\n",
    "! sssom diff {input_sssom} boomer.sssom.tsv -o in_out_diff.sssom.tsv"
   ]
  },
  {
   "cell_type": "code",
   "execution_count": 43,
   "id": "8c28f743",
   "metadata": {},
   "outputs": [],
   "source": [
    "comparison_msdf = parse_sssom_table(\"in_out_diff.sssom.tsv\")"
   ]
  },
  {
   "cell_type": "code",
   "execution_count": 44,
   "id": "f4306c2d",
   "metadata": {},
   "outputs": [
    {
     "data": {
      "text/html": [
       "<div>\n",
       "<style scoped>\n",
       "    .dataframe tbody tr th:only-of-type {\n",
       "        vertical-align: middle;\n",
       "    }\n",
       "\n",
       "    .dataframe tbody tr th {\n",
       "        vertical-align: top;\n",
       "    }\n",
       "\n",
       "    .dataframe thead th {\n",
       "        text-align: right;\n",
       "    }\n",
       "</style>\n",
       "<table border=\"1\" class=\"dataframe\">\n",
       "  <thead>\n",
       "    <tr style=\"text-align: right;\">\n",
       "      <th></th>\n",
       "      <th>subject_id</th>\n",
       "      <th>subject_label</th>\n",
       "      <th>predicate_id</th>\n",
       "      <th>object_id</th>\n",
       "      <th>mapping_justification</th>\n",
       "      <th>confidence</th>\n",
       "      <th>comment</th>\n",
       "    </tr>\n",
       "  </thead>\n",
       "  <tbody>\n",
       "    <tr>\n",
       "      <th>0</th>\n",
       "      <td>DOID:0001816</td>\n",
       "      <td></td>\n",
       "      <td>owl:equivalentClass</td>\n",
       "      <td>MONDO:0016982</td>\n",
       "      <td>semapv:UnspecifiedMatching</td>\n",
       "      <td>NaN</td>\n",
       "      <td>UNIQUE_2</td>\n",
       "    </tr>\n",
       "    <tr>\n",
       "      <th>1</th>\n",
       "      <td>DOID:0002116</td>\n",
       "      <td></td>\n",
       "      <td>owl:equivalentClass</td>\n",
       "      <td>MONDO:0005085</td>\n",
       "      <td>semapv:UnspecifiedMatching</td>\n",
       "      <td>NaN</td>\n",
       "      <td>UNIQUE_2</td>\n",
       "    </tr>\n",
       "    <tr>\n",
       "      <th>2</th>\n",
       "      <td>DOID:0014667</td>\n",
       "      <td></td>\n",
       "      <td>owl:equivalentClass</td>\n",
       "      <td>MONDO:0005066</td>\n",
       "      <td>semapv:UnspecifiedMatching</td>\n",
       "      <td>NaN</td>\n",
       "      <td>UNIQUE_2</td>\n",
       "    </tr>\n",
       "    <tr>\n",
       "      <th>3</th>\n",
       "      <td>DOID:0040001</td>\n",
       "      <td></td>\n",
       "      <td>owl:equivalentClass</td>\n",
       "      <td>MONDO:0025517</td>\n",
       "      <td>semapv:UnspecifiedMatching</td>\n",
       "      <td>NaN</td>\n",
       "      <td>UNIQUE_2</td>\n",
       "    </tr>\n",
       "    <tr>\n",
       "      <th>4</th>\n",
       "      <td>DOID:0040002</td>\n",
       "      <td></td>\n",
       "      <td>owl:equivalentClass</td>\n",
       "      <td>MONDO:0025518</td>\n",
       "      <td>semapv:UnspecifiedMatching</td>\n",
       "      <td>NaN</td>\n",
       "      <td>UNIQUE_2</td>\n",
       "    </tr>\n",
       "  </tbody>\n",
       "</table>\n",
       "</div>"
      ],
      "text/plain": [
       "     subject_id subject_label         predicate_id      object_id  \\\n",
       "0  DOID:0001816                owl:equivalentClass  MONDO:0016982   \n",
       "1  DOID:0002116                owl:equivalentClass  MONDO:0005085   \n",
       "2  DOID:0014667                owl:equivalentClass  MONDO:0005066   \n",
       "3  DOID:0040001                owl:equivalentClass  MONDO:0025517   \n",
       "4  DOID:0040002                owl:equivalentClass  MONDO:0025518   \n",
       "\n",
       "        mapping_justification  confidence   comment  \n",
       "0  semapv:UnspecifiedMatching         NaN  UNIQUE_2  \n",
       "1  semapv:UnspecifiedMatching         NaN  UNIQUE_2  \n",
       "2  semapv:UnspecifiedMatching         NaN  UNIQUE_2  \n",
       "3  semapv:UnspecifiedMatching         NaN  UNIQUE_2  \n",
       "4  semapv:UnspecifiedMatching         NaN  UNIQUE_2  "
      ]
     },
     "execution_count": 44,
     "metadata": {},
     "output_type": "execute_result"
    }
   ],
   "source": [
    "comparison_msdf.df.head()"
   ]
  },
  {
   "cell_type": "code",
   "execution_count": 46,
   "id": "8a59e15c",
   "metadata": {},
   "outputs": [
    {
     "data": {
      "text/plain": [
       "COMMON_TO_BOTH    139564\n",
       "UNIQUE_2           69782\n",
       "UNIQUE_1            1715\n",
       "Name: comment, dtype: int64"
      ]
     },
     "execution_count": 46,
     "metadata": {},
     "output_type": "execute_result"
    }
   ],
   "source": [
    "comparison_msdf.df[\"comment\"].value_counts()"
   ]
  },
  {
   "cell_type": "code",
   "execution_count": null,
   "id": "da136241",
   "metadata": {},
   "outputs": [],
   "source": []
  }
 ],
 "metadata": {
  "kernelspec": {
   "display_name": "Python 3 (ipykernel)",
   "language": "python",
   "name": "python3"
  },
  "language_info": {
   "codemirror_mode": {
    "name": "ipython",
    "version": 3
   },
   "file_extension": ".py",
   "mimetype": "text/x-python",
   "name": "python",
   "nbconvert_exporter": "python",
   "pygments_lexer": "ipython3",
   "version": "3.10.8"
  }
 },
 "nbformat": 4,
 "nbformat_minor": 5
}
